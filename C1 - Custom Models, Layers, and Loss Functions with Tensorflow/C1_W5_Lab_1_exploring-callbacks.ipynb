{
 "cells": [
  {
   "cell_type": "markdown",
   "metadata": {
    "colab_type": "text",
    "id": "view-in-github"
   },
   "source": [
    "<a href=\"https://colab.research.google.com/github/https-deeplearning-ai/tensorflow-3-public/blob/main/Course%201%20-%20Custom%20Models%2C%20Layers%20and%20Loss%20Functions/Week%205%20-%20Callbacks/C1_W5_Lab_1_exploring-callbacks.ipynb\" target=\"_parent\"><img src=\"https://colab.research.google.com/assets/colab-badge.svg\" alt=\"Open In Colab\"/></a>"
   ]
  },
  {
   "cell_type": "markdown",
   "metadata": {
    "colab_type": "text",
    "id": "0c_TYhQOUe1j"
   },
   "source": [
    "# Ungraded Lab: Introduction to Keras callbacks\n",
    "\n",
    "In Keras, `Callback` is a Python class meant to be subclassed to provide specific functionality, with a set of methods called at various stages of training (including batch/epoch start and ends), testing, and predicting. Callbacks are useful to get a view on internal states and statistics of the model during training. The methods of the callbacks can  be called at different stages of training/evaluating/inference. Keras has available [callbacks](https://keras.io/api/callbacks/) and we'll show how you can use it in the following sections. Please click the **Open in Colab** badge above to complete this exercise in Colab. This will allow you to take advantage of the free GPU runtime (for faster training) and compatibility with all the packages needed in this notebook."
   ]
  },
  {
   "cell_type": "markdown",
   "metadata": {
    "colab_type": "text",
    "id": "Uyl69EyRQx-f"
   },
   "source": [
    "## Model methods that take callbacks\n",
    "Users can supply a list of callbacks to the following `tf.keras.Model` methods:\n",
    "* [`fit()`](https://www.tensorflow.org/versions/r2.0/api_docs/python/tf/keras/Model#fit), [`fit_generator()`](https://www.tensorflow.org/versions/r2.0/api_docs/python/tf/keras/Model#fit_generator)\n",
    "Trains the model for a fixed number of epochs (iterations over a dataset, or data yielded batch-by-batch by a Python generator).\n",
    "* [`evaluate()`](https://www.tensorflow.org/versions/r2.0/api_docs/python/tf/keras/Model#evaluate), [`evaluate_generator()`](https://www.tensorflow.org/versions/r2.0/api_docs/python/tf/keras/Model#evaluate_generator)\n",
    "Evaluates the model for given data or data generator. Outputs the loss and metric values from the evaluation.\n",
    "* [`predict()`](https://www.tensorflow.org/versions/r2.0/api_docs/python/tf/keras/Model#predict), [`predict_generator()`](https://www.tensorflow.org/versions/r2.0/api_docs/python/tf/keras/Model#predict_generator)\n",
    "Generates output predictions for the input data or data generator."
   ]
  },
  {
   "cell_type": "markdown",
   "metadata": {},
   "source": [
    "## Imports"
   ]
  },
  {
   "cell_type": "code",
   "execution_count": 1,
   "metadata": {
    "colab": {},
    "colab_type": "code",
    "id": "AlT1Kh3uA9lZ"
   },
   "outputs": [
    {
     "name": "stdout",
     "output_type": "stream",
     "text": [
      "Version:  2.1.0\n"
     ]
    }
   ],
   "source": [
    "from __future__ import absolute_import, division, print_function, unicode_literals\n",
    "\n",
    "try:\n",
    "    # %tensorflow_version only exists in Colab.\n",
    "    %tensorflow_version 2.x\n",
    "except Exception:\n",
    "    pass\n",
    "\n",
    "import tensorflow as tf\n",
    "import tensorflow_datasets as tfds\n",
    "import matplotlib.pyplot as plt\n",
    "import io\n",
    "from PIL import Image\n",
    "\n",
    "from tensorflow.keras.callbacks import TensorBoard, EarlyStopping, LearningRateScheduler, ModelCheckpoint, CSVLogger, ReduceLROnPlateau\n",
    "%load_ext tensorboard\n",
    "\n",
    "import os\n",
    "import matplotlib.pylab as plt\n",
    "import numpy as np\n",
    "import math\n",
    "import datetime\n",
    "import pandas as pd\n",
    "\n",
    "print(\"Version: \", tf.__version__)\n",
    "tf.get_logger().setLevel('INFO')"
   ]
  },
  {
   "cell_type": "markdown",
   "metadata": {
    "colab_type": "text",
    "id": "HnSljqtsXKfb"
   },
   "source": [
    "# Examples of Keras callback applications\n",
    "The following section will guide you through creating simple [Callback](https://keras.io/api/callbacks/) applications."
   ]
  },
  {
   "cell_type": "code",
   "execution_count": 2,
   "metadata": {
    "colab": {},
    "colab_type": "code",
    "id": "spskRuxvCYQE"
   },
   "outputs": [],
   "source": [
    "# Download and prepare the horses or humans dataset\n",
    "\n",
    "# horses_or_humans 3.0.0 has already been downloaded for you\n",
    "path = \"./tensorflow_datasets\"\n",
    "splits, info = tfds.load('horses_or_humans', data_dir=path, as_supervised=True, with_info=True, split=['train[:80%]', 'train[80%:]', 'test'])\n",
    "\n",
    "(train_examples, validation_examples, test_examples) = splits\n",
    "\n",
    "num_examples = info.splits['train'].num_examples\n",
    "num_classes = info.features['label'].num_classes"
   ]
  },
  {
   "cell_type": "code",
   "execution_count": 3,
   "metadata": {
    "colab": {},
    "colab_type": "code",
    "id": "veIsubKTCZsN"
   },
   "outputs": [],
   "source": [
    "SIZE = 150 #@param {type:\"slider\", min:64, max:300, step:1}\n",
    "IMAGE_SIZE = (SIZE, SIZE)"
   ]
  },
  {
   "cell_type": "code",
   "execution_count": 4,
   "metadata": {
    "colab": {},
    "colab_type": "code",
    "id": "faajLlErCb1S"
   },
   "outputs": [],
   "source": [
    "def format_image(image, label):\n",
    "  image = tf.image.resize(image, IMAGE_SIZE) / 255.0\n",
    "  return  image, label"
   ]
  },
  {
   "cell_type": "code",
   "execution_count": 5,
   "metadata": {
    "colab": {},
    "colab_type": "code",
    "id": "AVXPuU12Cdka"
   },
   "outputs": [],
   "source": [
    "BATCH_SIZE = 32 #@param {type:\"integer\"}"
   ]
  },
  {
   "cell_type": "code",
   "execution_count": 6,
   "metadata": {
    "colab": {},
    "colab_type": "code",
    "id": "0lHDkFVaCe48"
   },
   "outputs": [],
   "source": [
    "train_batches = train_examples.shuffle(num_examples // 4).map(format_image).batch(BATCH_SIZE).prefetch(1)\n",
    "validation_batches = validation_examples.map(format_image).batch(BATCH_SIZE).prefetch(1)\n",
    "test_batches = test_examples.map(format_image).batch(1)"
   ]
  },
  {
   "cell_type": "code",
   "execution_count": 7,
   "metadata": {
    "colab": {},
    "colab_type": "code",
    "id": "DxsCqEIkCgUt"
   },
   "outputs": [
    {
     "data": {
      "text/plain": [
       "TensorShape([32, 150, 150, 3])"
      ]
     },
     "execution_count": 7,
     "metadata": {},
     "output_type": "execute_result"
    }
   ],
   "source": [
    "for image_batch, label_batch in train_batches.take(1):\n",
    "  pass\n",
    "\n",
    "image_batch.shape"
   ]
  },
  {
   "cell_type": "code",
   "execution_count": 8,
   "metadata": {
    "colab": {},
    "colab_type": "code",
    "id": "iDBpWvHXCh2A"
   },
   "outputs": [],
   "source": [
    "def build_model(dense_units, input_shape=IMAGE_SIZE + (3,)):\n",
    "  model = tf.keras.models.Sequential([\n",
    "      tf.keras.layers.Conv2D(16, (3, 3), activation='relu', input_shape=input_shape),\n",
    "      tf.keras.layers.MaxPooling2D(2, 2),\n",
    "      tf.keras.layers.Conv2D(32, (3, 3), activation='relu'),\n",
    "      tf.keras.layers.MaxPooling2D(2, 2),\n",
    "      tf.keras.layers.Conv2D(64, (3, 3), activation='relu'),\n",
    "      tf.keras.layers.MaxPooling2D(2, 2),\n",
    "      tf.keras.layers.Flatten(),\n",
    "      tf.keras.layers.Dense(dense_units, activation='relu'),\n",
    "      tf.keras.layers.Dense(2, activation='softmax')\n",
    "  ])\n",
    "  return model"
   ]
  },
  {
   "cell_type": "markdown",
   "metadata": {
    "colab_type": "text",
    "id": "0ZKGkjagENSw"
   },
   "source": [
    "## [TensorBoard](https://keras.io/api/callbacks/tensorboard/)\n",
    "\n",
    "Enable visualizations for TensorBoard."
   ]
  },
  {
   "cell_type": "code",
   "execution_count": 9,
   "metadata": {
    "colab": {},
    "colab_type": "code",
    "id": "CeiD2WVEHbex"
   },
   "outputs": [],
   "source": [
    "!rm -rf logs"
   ]
  },
  {
   "cell_type": "code",
   "execution_count": 10,
   "metadata": {
    "colab": {},
    "colab_type": "code",
    "id": "PpLwPLnAEOzv"
   },
   "outputs": [
    {
     "name": "stdout",
     "output_type": "stream",
     "text": [
      "Epoch 1/10\n",
      "26/26 [==============================] - 20s 787ms/step - loss: 0.6655 - accuracy: 0.6119 - val_loss: 0.6306 - val_accuracy: 0.8244\n",
      "Epoch 2/10\n",
      "26/26 [==============================] - 20s 772ms/step - loss: 0.5938 - accuracy: 0.7311 - val_loss: 0.5808 - val_accuracy: 0.6293\n",
      "Epoch 3/10\n",
      "26/26 [==============================] - 20s 758ms/step - loss: 0.5315 - accuracy: 0.7445 - val_loss: 0.5115 - val_accuracy: 0.7463\n",
      "Epoch 4/10\n",
      "26/26 [==============================] - 20s 762ms/step - loss: 0.4497 - accuracy: 0.8212 - val_loss: 0.5342 - val_accuracy: 0.7073\n",
      "Epoch 5/10\n",
      "26/26 [==============================] - 20s 765ms/step - loss: 0.3857 - accuracy: 0.8431 - val_loss: 0.3534 - val_accuracy: 0.8780\n",
      "Epoch 6/10\n",
      "26/26 [==============================] - 20s 757ms/step - loss: 0.3456 - accuracy: 0.8662 - val_loss: 0.2789 - val_accuracy: 0.9415\n",
      "Epoch 7/10\n",
      "26/26 [==============================] - 20s 754ms/step - loss: 0.2761 - accuracy: 0.9161 - val_loss: 0.2270 - val_accuracy: 0.9463\n",
      "Epoch 8/10\n",
      "26/26 [==============================] - 20s 754ms/step - loss: 0.2207 - accuracy: 0.9319 - val_loss: 0.1804 - val_accuracy: 0.9610\n",
      "Epoch 9/10\n",
      "26/26 [==============================] - 20s 762ms/step - loss: 0.1992 - accuracy: 0.9319 - val_loss: 0.1860 - val_accuracy: 0.9512\n",
      "Epoch 10/10\n",
      "26/26 [==============================] - 20s 757ms/step - loss: 0.1351 - accuracy: 0.9684 - val_loss: 0.1447 - val_accuracy: 0.9463\n"
     ]
    },
    {
     "data": {
      "text/plain": [
       "<tensorflow.python.keras.callbacks.History at 0x7fca763494d0>"
      ]
     },
     "execution_count": 10,
     "metadata": {},
     "output_type": "execute_result"
    }
   ],
   "source": [
    "model = build_model(dense_units=256)\n",
    "model.compile(\n",
    "    optimizer='sgd',\n",
    "    loss='sparse_categorical_crossentropy', \n",
    "    metrics=['accuracy'])\n",
    "  \n",
    "logdir = os.path.join(\"logs\", datetime.datetime.now().strftime(\"%Y%m%d-%H%M%S\"))\n",
    "tensorboard_callback = tf.keras.callbacks.TensorBoard(logdir)\n",
    "\n",
    "model.fit(train_batches, \n",
    "          epochs=10, \n",
    "          validation_data=validation_batches, \n",
    "          callbacks=[tensorboard_callback])"
   ]
  },
  {
   "cell_type": "code",
   "execution_count": 11,
   "metadata": {
    "colab": {},
    "colab_type": "code",
    "id": "iJunWOjZE0ir"
   },
   "outputs": [
    {
     "data": {
      "text/html": [
       "\n",
       "      <iframe id=\"tensorboard-frame-c2e2218a76cdbef9\" width=\"100%\" height=\"800\" frameborder=\"0\">\n",
       "      </iframe>\n",
       "      <script>\n",
       "        (function() {\n",
       "          const frame = document.getElementById(\"tensorboard-frame-c2e2218a76cdbef9\");\n",
       "          const url = new URL(\"/\", window.location);\n",
       "          url.port = 6006;\n",
       "          frame.src = url;\n",
       "        })();\n",
       "      </script>\n",
       "  "
      ],
      "text/plain": [
       "<IPython.core.display.HTML object>"
      ]
     },
     "metadata": {},
     "output_type": "display_data"
    }
   ],
   "source": [
    "%tensorboard --logdir logs"
   ]
  },
  {
   "cell_type": "markdown",
   "metadata": {
    "colab_type": "text",
    "id": "wv9H4Pc2Mfl7"
   },
   "source": [
    "## [Model Checkpoint](https://keras.io/api/callbacks/model_checkpoint/)\n",
    "\n",
    "Callback to save the Keras model or model weights at some frequency."
   ]
  },
  {
   "cell_type": "code",
   "execution_count": 12,
   "metadata": {
    "colab": {},
    "colab_type": "code",
    "id": "PYV4FJ8iMmDq"
   },
   "outputs": [
    {
     "name": "stdout",
     "output_type": "stream",
     "text": [
      "Epoch 1/5\n",
      "\n",
      "Epoch 00001: saving model to weights.01-0.65.h5\n",
      "26/26 - 20s - loss: 0.6617 - accuracy: 0.6363 - val_loss: 0.6539 - val_accuracy: 0.5756\n",
      "Epoch 2/5\n",
      "\n",
      "Epoch 00002: saving model to weights.02-0.63.h5\n",
      "26/26 - 20s - loss: 0.6107 - accuracy: 0.7080 - val_loss: 0.6302 - val_accuracy: 0.5610\n",
      "Epoch 3/5\n",
      "\n",
      "Epoch 00003: saving model to weights.03-0.51.h5\n",
      "26/26 - 20s - loss: 0.5536 - accuracy: 0.7506 - val_loss: 0.5104 - val_accuracy: 0.7707\n",
      "Epoch 4/5\n",
      "\n",
      "Epoch 00004: saving model to weights.04-0.44.h5\n",
      "26/26 - 20s - loss: 0.5010 - accuracy: 0.7676 - val_loss: 0.4388 - val_accuracy: 0.8049\n",
      "Epoch 5/5\n",
      "\n",
      "Epoch 00005: saving model to weights.05-0.49.h5\n",
      "26/26 - 20s - loss: 0.4497 - accuracy: 0.7956 - val_loss: 0.4889 - val_accuracy: 0.7756\n"
     ]
    },
    {
     "data": {
      "text/plain": [
       "<tensorflow.python.keras.callbacks.History at 0x7fca76210c90>"
      ]
     },
     "execution_count": 12,
     "metadata": {},
     "output_type": "execute_result"
    }
   ],
   "source": [
    "model = build_model(dense_units=256)\n",
    "model.compile(\n",
    "    optimizer='sgd',\n",
    "    loss='sparse_categorical_crossentropy', \n",
    "    metrics=['accuracy'])\n",
    "  \n",
    "model.fit(train_batches, \n",
    "          epochs=5, \n",
    "          validation_data=validation_batches, \n",
    "          verbose=2,\n",
    "          callbacks=[ModelCheckpoint('weights.{epoch:02d}-{val_loss:.2f}.h5', verbose=1),\n",
    "          ])"
   ]
  },
  {
   "cell_type": "code",
   "execution_count": 13,
   "metadata": {
    "colab": {},
    "colab_type": "code",
    "id": "oGvjQ8IlMmK6"
   },
   "outputs": [
    {
     "name": "stdout",
     "output_type": "stream",
     "text": [
      "\n",
      "Epoch 00001: saving model to saved_model\n",
      "WARNING:tensorflow:From /opt/conda/lib/python3.7/site-packages/tensorflow_core/python/ops/resource_variable_ops.py:1786: calling BaseResourceVariable.__init__ (from tensorflow.python.ops.resource_variable_ops) with constraint is deprecated and will be removed in a future version.\n",
      "Instructions for updating:\n",
      "If using Keras pass *_constraint arguments to layers.\n"
     ]
    },
    {
     "name": "stderr",
     "output_type": "stream",
     "text": [
      "WARNING:tensorflow:From /opt/conda/lib/python3.7/site-packages/tensorflow_core/python/ops/resource_variable_ops.py:1786: calling BaseResourceVariable.__init__ (from tensorflow.python.ops.resource_variable_ops) with constraint is deprecated and will be removed in a future version.\n",
      "Instructions for updating:\n",
      "If using Keras pass *_constraint arguments to layers.\n"
     ]
    },
    {
     "name": "stdout",
     "output_type": "stream",
     "text": [
      "INFO:tensorflow:Assets written to: saved_model/assets\n"
     ]
    },
    {
     "name": "stderr",
     "output_type": "stream",
     "text": [
      "INFO:tensorflow:Assets written to: saved_model/assets\n"
     ]
    },
    {
     "name": "stdout",
     "output_type": "stream",
     "text": [
      "26/26 - 21s - loss: 0.6746 - accuracy: 0.5888 - val_loss: 0.6742 - val_accuracy: 0.4927\n"
     ]
    },
    {
     "data": {
      "text/plain": [
       "<tensorflow.python.keras.callbacks.History at 0x7fca760caed0>"
      ]
     },
     "execution_count": 13,
     "metadata": {},
     "output_type": "execute_result"
    }
   ],
   "source": [
    "model = build_model(dense_units=256)\n",
    "model.compile(\n",
    "    optimizer='sgd',\n",
    "    loss='sparse_categorical_crossentropy', \n",
    "    metrics=['accuracy'])\n",
    "  \n",
    "model.fit(train_batches, \n",
    "          epochs=1, \n",
    "          validation_data=validation_batches, \n",
    "          verbose=2,\n",
    "          callbacks=[ModelCheckpoint('saved_model', verbose=1)\n",
    "          ])"
   ]
  },
  {
   "cell_type": "code",
   "execution_count": 14,
   "metadata": {
    "colab": {},
    "colab_type": "code",
    "id": "Y1ConwoB0EjD"
   },
   "outputs": [
    {
     "name": "stdout",
     "output_type": "stream",
     "text": [
      "Epoch 1/2\n",
      "\n",
      "Epoch 00001: saving model to model.h5\n",
      "26/26 - 20s - loss: 0.6744 - accuracy: 0.6131 - val_loss: 0.6474 - val_accuracy: 0.5951\n",
      "Epoch 2/2\n",
      "\n",
      "Epoch 00002: saving model to model.h5\n",
      "26/26 - 20s - loss: 0.6428 - accuracy: 0.6521 - val_loss: 0.7890 - val_accuracy: 0.4341\n"
     ]
    },
    {
     "data": {
      "text/plain": [
       "<tensorflow.python.keras.callbacks.History at 0x7fca757ff150>"
      ]
     },
     "execution_count": 14,
     "metadata": {},
     "output_type": "execute_result"
    }
   ],
   "source": [
    "model = build_model(dense_units=256)\n",
    "model.compile(\n",
    "    optimizer='sgd',\n",
    "    loss='sparse_categorical_crossentropy', \n",
    "    metrics=['accuracy'])\n",
    "  \n",
    "model.fit(train_batches, \n",
    "          epochs=2, \n",
    "          validation_data=validation_batches, \n",
    "          verbose=2,\n",
    "          callbacks=[ModelCheckpoint('model.h5', verbose=1)\n",
    "          ])"
   ]
  },
  {
   "cell_type": "markdown",
   "metadata": {
    "colab_type": "text",
    "id": "kptNF0--Lznv"
   },
   "source": [
    "## [Early stopping](https://keras.io/api/callbacks/early_stopping/)\n",
    "\n",
    "Stop training when a monitored metric has stopped improving."
   ]
  },
  {
   "cell_type": "code",
   "execution_count": 15,
   "metadata": {
    "colab": {},
    "colab_type": "code",
    "id": "KJOJTJYdCkdY"
   },
   "outputs": [
    {
     "name": "stdout",
     "output_type": "stream",
     "text": [
      "Epoch 1/50\n",
      "26/26 - 20s - loss: 0.6777 - accuracy: 0.5669 - val_loss: 0.6768 - val_accuracy: 0.5171\n",
      "Epoch 2/50\n",
      "26/26 - 21s - loss: 0.6420 - accuracy: 0.6387 - val_loss: 0.6156 - val_accuracy: 0.7659\n",
      "Epoch 3/50\n",
      "26/26 - 20s - loss: 0.5922 - accuracy: 0.7068 - val_loss: 0.5794 - val_accuracy: 0.6537\n",
      "Epoch 4/50\n",
      "26/26 - 20s - loss: 0.5385 - accuracy: 0.7372 - val_loss: 0.7515 - val_accuracy: 0.5122\n",
      "Epoch 5/50\n",
      "26/26 - 20s - loss: 0.5243 - accuracy: 0.7530 - val_loss: 0.4868 - val_accuracy: 0.7707\n",
      "Epoch 6/50\n",
      "26/26 - 20s - loss: 0.4573 - accuracy: 0.8054 - val_loss: 0.4690 - val_accuracy: 0.8244\n",
      "Epoch 7/50\n",
      "26/26 - 20s - loss: 0.3874 - accuracy: 0.8358 - val_loss: 0.3413 - val_accuracy: 0.8976\n",
      "Epoch 8/50\n",
      "26/26 - 20s - loss: 0.3631 - accuracy: 0.8491 - val_loss: 0.3110 - val_accuracy: 0.9024\n",
      "Epoch 9/50\n",
      "26/26 - 20s - loss: 0.3229 - accuracy: 0.8832 - val_loss: 0.2454 - val_accuracy: 0.9512\n",
      "Epoch 10/50\n",
      "26/26 - 20s - loss: 0.2398 - accuracy: 0.9331 - val_loss: 0.1984 - val_accuracy: 0.9415\n",
      "Epoch 11/50\n",
      "26/26 - 21s - loss: 0.2298 - accuracy: 0.9209 - val_loss: 0.1685 - val_accuracy: 0.9756\n",
      "Epoch 12/50\n",
      "26/26 - 20s - loss: 0.1801 - accuracy: 0.9574 - val_loss: 0.1636 - val_accuracy: 0.9610\n",
      "Epoch 13/50\n",
      "26/26 - 20s - loss: 0.1833 - accuracy: 0.9440 - val_loss: 0.1435 - val_accuracy: 0.9756\n",
      "Epoch 14/50\n",
      "26/26 - 20s - loss: 0.1217 - accuracy: 0.9732 - val_loss: 0.1106 - val_accuracy: 0.9707\n",
      "Epoch 15/50\n",
      "26/26 - 19s - loss: 0.1044 - accuracy: 0.9781 - val_loss: 0.0933 - val_accuracy: 0.9756\n",
      "Epoch 16/50\n",
      "26/26 - 20s - loss: 0.0854 - accuracy: 0.9805 - val_loss: 0.0795 - val_accuracy: 0.9805\n",
      "Epoch 17/50\n",
      "Restoring model weights from the end of the best epoch.\n",
      "26/26 - 20s - loss: 0.0694 - accuracy: 0.9830 - val_loss: 0.0698 - val_accuracy: 0.9805\n",
      "Epoch 00017: early stopping\n"
     ]
    },
    {
     "data": {
      "text/plain": [
       "<tensorflow.python.keras.callbacks.History at 0x7fca755cbf10>"
      ]
     },
     "execution_count": 15,
     "metadata": {},
     "output_type": "execute_result"
    }
   ],
   "source": [
    "model = build_model(dense_units=256)\n",
    "model.compile(\n",
    "    optimizer='sgd',\n",
    "    loss='sparse_categorical_crossentropy', \n",
    "    metrics=['accuracy'])\n",
    "  \n",
    "model.fit(train_batches, \n",
    "          epochs=50, \n",
    "          validation_data=validation_batches, \n",
    "          verbose=2,\n",
    "          callbacks=[EarlyStopping(\n",
    "              patience=3,\n",
    "              min_delta=0.05,\n",
    "              baseline=0.8,\n",
    "              mode='min',\n",
    "              monitor='val_loss',\n",
    "              restore_best_weights=True,\n",
    "              verbose=1)\n",
    "          ])"
   ]
  },
  {
   "cell_type": "markdown",
   "metadata": {
    "colab_type": "text",
    "id": "8mDzWUD4Pqq5"
   },
   "source": [
    "## [CSV Logger](https://keras.io/api/callbacks/csv_logger/)\n",
    "\n",
    "Callback that streams epoch results to a CSV file."
   ]
  },
  {
   "cell_type": "code",
   "execution_count": 16,
   "metadata": {
    "colab": {},
    "colab_type": "code",
    "id": "cffnMpmGPtMh"
   },
   "outputs": [
    {
     "name": "stdout",
     "output_type": "stream",
     "text": [
      "Epoch 1/5\n",
      "26/26 [==============================] - 20s 788ms/step - loss: 0.6704 - accuracy: 0.5499 - val_loss: 0.6418 - val_accuracy: 0.6634\n",
      "Epoch 2/5\n",
      "26/26 [==============================] - 20s 767ms/step - loss: 0.6029 - accuracy: 0.7397 - val_loss: 0.5608 - val_accuracy: 0.8390\n",
      "Epoch 3/5\n",
      "26/26 [==============================] - 19s 750ms/step - loss: 0.5233 - accuracy: 0.7835 - val_loss: 0.4814 - val_accuracy: 0.8098\n",
      "Epoch 4/5\n",
      "26/26 [==============================] - 22s 827ms/step - loss: 0.4737 - accuracy: 0.8163 - val_loss: 0.3945 - val_accuracy: 0.8146\n",
      "Epoch 5/5\n",
      "26/26 [==============================] - 20s 781ms/step - loss: 0.3993 - accuracy: 0.8358 - val_loss: 0.4154 - val_accuracy: 0.8244\n"
     ]
    },
    {
     "data": {
      "text/plain": [
       "<tensorflow.python.keras.callbacks.History at 0x7fca76004d90>"
      ]
     },
     "execution_count": 16,
     "metadata": {},
     "output_type": "execute_result"
    }
   ],
   "source": [
    "model = build_model(dense_units=256)\n",
    "model.compile(\n",
    "    optimizer='sgd',\n",
    "    loss='sparse_categorical_crossentropy', \n",
    "    metrics=['accuracy'])\n",
    "  \n",
    "csv_file = 'training.csv'\n",
    "\n",
    "model.fit(train_batches, \n",
    "          epochs=5, \n",
    "          validation_data=validation_batches, \n",
    "          callbacks=[CSVLogger(csv_file)\n",
    "          ])"
   ]
  },
  {
   "cell_type": "code",
   "execution_count": 17,
   "metadata": {
    "colab": {},
    "colab_type": "code",
    "id": "B9tkYi03QV7R"
   },
   "outputs": [
    {
     "data": {
      "text/html": [
       "<div>\n",
       "<style scoped>\n",
       "    .dataframe tbody tr th:only-of-type {\n",
       "        vertical-align: middle;\n",
       "    }\n",
       "\n",
       "    .dataframe tbody tr th {\n",
       "        vertical-align: top;\n",
       "    }\n",
       "\n",
       "    .dataframe thead th {\n",
       "        text-align: right;\n",
       "    }\n",
       "</style>\n",
       "<table border=\"1\" class=\"dataframe\">\n",
       "  <thead>\n",
       "    <tr style=\"text-align: right;\">\n",
       "      <th></th>\n",
       "      <th>epoch</th>\n",
       "      <th>accuracy</th>\n",
       "      <th>loss</th>\n",
       "      <th>val_accuracy</th>\n",
       "      <th>val_loss</th>\n",
       "    </tr>\n",
       "  </thead>\n",
       "  <tbody>\n",
       "    <tr>\n",
       "      <th>0</th>\n",
       "      <td>0</td>\n",
       "      <td>0.549878</td>\n",
       "      <td>0.670667</td>\n",
       "      <td>0.663415</td>\n",
       "      <td>0.641757</td>\n",
       "    </tr>\n",
       "    <tr>\n",
       "      <th>1</th>\n",
       "      <td>1</td>\n",
       "      <td>0.739659</td>\n",
       "      <td>0.603106</td>\n",
       "      <td>0.839024</td>\n",
       "      <td>0.560805</td>\n",
       "    </tr>\n",
       "    <tr>\n",
       "      <th>2</th>\n",
       "      <td>2</td>\n",
       "      <td>0.783455</td>\n",
       "      <td>0.522945</td>\n",
       "      <td>0.809756</td>\n",
       "      <td>0.481351</td>\n",
       "    </tr>\n",
       "    <tr>\n",
       "      <th>3</th>\n",
       "      <td>3</td>\n",
       "      <td>0.816302</td>\n",
       "      <td>0.475333</td>\n",
       "      <td>0.814634</td>\n",
       "      <td>0.394501</td>\n",
       "    </tr>\n",
       "    <tr>\n",
       "      <th>4</th>\n",
       "      <td>4</td>\n",
       "      <td>0.835766</td>\n",
       "      <td>0.399577</td>\n",
       "      <td>0.824390</td>\n",
       "      <td>0.415350</td>\n",
       "    </tr>\n",
       "  </tbody>\n",
       "</table>\n",
       "</div>"
      ],
      "text/plain": [
       "   epoch  accuracy      loss  val_accuracy  val_loss\n",
       "0      0  0.549878  0.670667      0.663415  0.641757\n",
       "1      1  0.739659  0.603106      0.839024  0.560805\n",
       "2      2  0.783455  0.522945      0.809756  0.481351\n",
       "3      3  0.816302  0.475333      0.814634  0.394501\n",
       "4      4  0.835766  0.399577      0.824390  0.415350"
      ]
     },
     "execution_count": 17,
     "metadata": {},
     "output_type": "execute_result"
    }
   ],
   "source": [
    "pd.read_csv(csv_file).head()"
   ]
  },
  {
   "cell_type": "markdown",
   "metadata": {
    "colab_type": "text",
    "id": "Dt9C2Y9fRBKN"
   },
   "source": [
    "## [Learning Rate Scheduler](https://keras.io/api/callbacks/learning_rate_scheduler/)\n",
    "\n",
    "Updates the learning rate during training."
   ]
  },
  {
   "cell_type": "code",
   "execution_count": 18,
   "metadata": {
    "colab": {},
    "colab_type": "code",
    "id": "aJi-xY2VRC03"
   },
   "outputs": [
    {
     "name": "stdout",
     "output_type": "stream",
     "text": [
      "\n",
      "Epoch 00001: LearningRateScheduler reducing learning rate to 0.005.\n",
      "Epoch 1/5\n",
      "26/26 [==============================] - 29s 1s/step - loss: 0.6715 - accuracy: 0.5864 - val_loss: 0.6673 - val_accuracy: 0.5171\n",
      "\n",
      "Epoch 00002: LearningRateScheduler reducing learning rate to 0.0025.\n",
      "Epoch 2/5\n",
      "26/26 [==============================] - 23s 895ms/step - loss: 0.6394 - accuracy: 0.6740 - val_loss: 0.6420 - val_accuracy: 0.7220\n",
      "\n",
      "Epoch 00003: LearningRateScheduler reducing learning rate to 0.00125.\n",
      "Epoch 3/5\n",
      "26/26 [==============================] - 21s 804ms/step - loss: 0.6229 - accuracy: 0.7397 - val_loss: 0.6367 - val_accuracy: 0.6732\n",
      "\n",
      "Epoch 00004: LearningRateScheduler reducing learning rate to 0.000625.\n",
      "Epoch 4/5\n",
      "26/26 [==============================] - 19s 750ms/step - loss: 0.6138 - accuracy: 0.7445 - val_loss: 0.6284 - val_accuracy: 0.7317\n",
      "\n",
      "Epoch 00005: LearningRateScheduler reducing learning rate to 0.0003125.\n",
      "Epoch 5/5\n",
      "26/26 [==============================] - 20s 758ms/step - loss: 0.6090 - accuracy: 0.7579 - val_loss: 0.6257 - val_accuracy: 0.7366\n"
     ]
    },
    {
     "data": {
      "text/plain": [
       "<tensorflow.python.keras.callbacks.History at 0x7fca75e31bd0>"
      ]
     },
     "execution_count": 18,
     "metadata": {},
     "output_type": "execute_result"
    }
   ],
   "source": [
    "model = build_model(dense_units=256)\n",
    "model.compile(\n",
    "    optimizer='sgd',\n",
    "    loss='sparse_categorical_crossentropy', \n",
    "    metrics=['accuracy'])\n",
    "  \n",
    "def step_decay(epoch):\n",
    "\tinitial_lr = 0.01\n",
    "\tdrop = 0.5\n",
    "\tepochs_drop = 1\n",
    "\tlr = initial_lr * math.pow(drop, math.floor((1+epoch)/epochs_drop))\n",
    "\treturn lr\n",
    "\n",
    "model.fit(train_batches, \n",
    "          epochs=5, \n",
    "          validation_data=validation_batches, \n",
    "          callbacks=[LearningRateScheduler(step_decay, verbose=1),\n",
    "                    TensorBoard(log_dir='./log_dir')])"
   ]
  },
  {
   "cell_type": "code",
   "execution_count": 19,
   "metadata": {
    "colab": {},
    "colab_type": "code",
    "id": "M2S4n8nrbV91"
   },
   "outputs": [
    {
     "data": {
      "text/html": [
       "\n",
       "      <iframe id=\"tensorboard-frame-c6d8a2ca3cbee55d\" width=\"100%\" height=\"800\" frameborder=\"0\">\n",
       "      </iframe>\n",
       "      <script>\n",
       "        (function() {\n",
       "          const frame = document.getElementById(\"tensorboard-frame-c6d8a2ca3cbee55d\");\n",
       "          const url = new URL(\"/\", window.location);\n",
       "          url.port = 6007;\n",
       "          frame.src = url;\n",
       "        })();\n",
       "      </script>\n",
       "  "
      ],
      "text/plain": [
       "<IPython.core.display.HTML object>"
      ]
     },
     "metadata": {},
     "output_type": "display_data"
    }
   ],
   "source": [
    "%tensorboard --logdir log_dir"
   ]
  },
  {
   "cell_type": "markdown",
   "metadata": {
    "colab_type": "text",
    "id": "y0wcuQyJE_UK"
   },
   "source": [
    "## [ReduceLROnPlateau](https://keras.io/api/callbacks/reduce_lr_on_plateau/)\n",
    "\n",
    "Reduce learning rate when a metric has stopped improving."
   ]
  },
  {
   "cell_type": "code",
   "execution_count": 20,
   "metadata": {
    "colab": {},
    "colab_type": "code",
    "id": "4naxZ-eCFB27"
   },
   "outputs": [
    {
     "name": "stdout",
     "output_type": "stream",
     "text": [
      "Epoch 1/50\n",
      "26/26 [==============================] - 22s 842ms/step - loss: 0.6723 - accuracy: 0.5693 - val_loss: 0.6614 - val_accuracy: 0.5415\n",
      "Epoch 2/50\n",
      "26/26 [==============================] - 20s 788ms/step - loss: 0.6344 - accuracy: 0.6642 - val_loss: 0.6087 - val_accuracy: 0.7756\n",
      "Epoch 3/50\n",
      "26/26 [==============================] - 20s 761ms/step - loss: 0.5896 - accuracy: 0.7080 - val_loss: 0.5830 - val_accuracy: 0.6780\n",
      "Epoch 4/50\n",
      "26/26 [==============================] - 21s 804ms/step - loss: 0.5474 - accuracy: 0.7287 - val_loss: 0.5021 - val_accuracy: 0.7561\n",
      "Epoch 5/50\n",
      "26/26 [==============================] - 26s 985ms/step - loss: 0.5127 - accuracy: 0.7749 - val_loss: 0.4432 - val_accuracy: 0.8829\n",
      "Epoch 6/50\n",
      "26/26 [==============================] - 21s 827ms/step - loss: 0.4567 - accuracy: 0.8041 - val_loss: 0.4081 - val_accuracy: 0.8244\n",
      "Epoch 7/50\n",
      "26/26 [==============================] - 21s 792ms/step - loss: 0.4184 - accuracy: 0.8224 - val_loss: 0.4021 - val_accuracy: 0.7756\n",
      "Epoch 8/50\n",
      "26/26 [==============================] - 21s 792ms/step - loss: 0.3361 - accuracy: 0.8710 - val_loss: 0.2642 - val_accuracy: 0.9561\n",
      "Epoch 9/50\n",
      "26/26 [==============================] - 24s 938ms/step - loss: 0.2646 - accuracy: 0.9136 - val_loss: 0.2033 - val_accuracy: 0.9561\n",
      "Epoch 10/50\n",
      "25/26 [===========================>..] - ETA: 0s - loss: 0.2316 - accuracy: 0.9250\n",
      "Epoch 00010: ReduceLROnPlateau reducing learning rate to 0.0019999999552965165.\n",
      "26/26 [==============================] - 22s 849ms/step - loss: 0.2314 - accuracy: 0.9258 - val_loss: 0.2385 - val_accuracy: 0.9317\n",
      "Epoch 11/50\n",
      "26/26 [==============================] - 24s 917ms/step - loss: 0.1761 - accuracy: 0.9586 - val_loss: 0.1700 - val_accuracy: 0.9415\n",
      "Epoch 12/50\n",
      "26/26 [==============================] - 39s 2s/step - loss: 0.1604 - accuracy: 0.9659 - val_loss: 0.1502 - val_accuracy: 0.9756\n",
      "Epoch 13/50\n",
      "26/26 [==============================] - 30s 1s/step - loss: 0.1517 - accuracy: 0.9696 - val_loss: 0.1403 - val_accuracy: 0.9756\n",
      "Epoch 14/50\n",
      "26/26 [==============================] - 30s 1s/step - loss: 0.1426 - accuracy: 0.9732 - val_loss: 0.1285 - val_accuracy: 0.9707\n",
      "Epoch 15/50\n",
      "26/26 [==============================] - 25s 977ms/step - loss: 0.1358 - accuracy: 0.9732 - val_loss: 0.1224 - val_accuracy: 0.9707\n",
      "Epoch 16/50\n",
      "25/26 [===========================>..] - ETA: 0s - loss: 0.1326 - accuracy: 0.9700\n",
      "Epoch 00016: ReduceLROnPlateau reducing learning rate to 0.001.\n",
      "26/26 [==============================] - 23s 892ms/step - loss: 0.1324 - accuracy: 0.9708 - val_loss: 0.1242 - val_accuracy: 0.9756\n",
      "Epoch 17/50\n",
      "26/26 [==============================] - 22s 846ms/step - loss: 0.1250 - accuracy: 0.9757 - val_loss: 0.1186 - val_accuracy: 0.9756\n",
      "Epoch 18/50\n",
      "26/26 [==============================] - 22s 831ms/step - loss: 0.1227 - accuracy: 0.9757 - val_loss: 0.1185 - val_accuracy: 0.9756\n",
      "Epoch 19/50\n",
      "25/26 [===========================>..] - ETA: 0s - loss: 0.1192 - accuracy: 0.9762\n",
      "Epoch 00019: ReduceLROnPlateau reducing learning rate to 0.001.\n",
      "26/26 [==============================] - 22s 861ms/step - loss: 0.1183 - accuracy: 0.9769 - val_loss: 0.1186 - val_accuracy: 0.9756\n",
      "Epoch 20/50\n",
      "26/26 [==============================] - 23s 892ms/step - loss: 0.1150 - accuracy: 0.9805 - val_loss: 0.1135 - val_accuracy: 0.9756\n",
      "Epoch 21/50\n",
      "26/26 [==============================] - 22s 861ms/step - loss: 0.1147 - accuracy: 0.9757 - val_loss: 0.1120 - val_accuracy: 0.9756\n",
      "Epoch 22/50\n",
      "26/26 [==============================] - 22s 828ms/step - loss: 0.1106 - accuracy: 0.9793 - val_loss: 0.1052 - val_accuracy: 0.9756\n",
      "Epoch 23/50\n",
      "25/26 [===========================>..] - ETA: 0s - loss: 0.1079 - accuracy: 0.9800\n",
      "Epoch 00023: ReduceLROnPlateau reducing learning rate to 0.001.\n",
      "26/26 [==============================] - 20s 768ms/step - loss: 0.1080 - accuracy: 0.9805 - val_loss: 0.1052 - val_accuracy: 0.9756\n",
      "Epoch 24/50\n",
      "26/26 [==============================] - 21s 796ms/step - loss: 0.1066 - accuracy: 0.9793 - val_loss: 0.1009 - val_accuracy: 0.9756\n",
      "Epoch 25/50\n",
      "26/26 [==============================] - 21s 792ms/step - loss: 0.1043 - accuracy: 0.9793 - val_loss: 0.0984 - val_accuracy: 0.9756\n",
      "Epoch 26/50\n",
      "25/26 [===========================>..] - ETA: 0s - loss: 0.1027 - accuracy: 0.9825\n",
      "Epoch 00026: ReduceLROnPlateau reducing learning rate to 0.001.\n",
      "26/26 [==============================] - 21s 808ms/step - loss: 0.1016 - accuracy: 0.9830 - val_loss: 0.1030 - val_accuracy: 0.9707\n",
      "Epoch 27/50\n",
      "25/26 [===========================>..] - ETA: 0s - loss: 0.1009 - accuracy: 0.9825\n",
      "Epoch 00027: ReduceLROnPlateau reducing learning rate to 0.001.\n",
      "26/26 [==============================] - 21s 821ms/step - loss: 0.0998 - accuracy: 0.9830 - val_loss: 0.0990 - val_accuracy: 0.9707\n",
      "Epoch 28/50\n",
      "26/26 [==============================] - 20s 771ms/step - loss: 0.0964 - accuracy: 0.9830 - val_loss: 0.0950 - val_accuracy: 0.9756\n",
      "Epoch 29/50\n",
      "26/26 [==============================] - 20s 782ms/step - loss: 0.0954 - accuracy: 0.9842 - val_loss: 0.0946 - val_accuracy: 0.9756\n",
      "Epoch 30/50\n",
      "26/26 [==============================] - 20s 783ms/step - loss: 0.0931 - accuracy: 0.9830 - val_loss: 0.0941 - val_accuracy: 0.9707\n",
      "Epoch 31/50\n",
      "26/26 [==============================] - 20s 756ms/step - loss: 0.0902 - accuracy: 0.9830 - val_loss: 0.0930 - val_accuracy: 0.9707\n",
      "Epoch 32/50\n",
      "25/26 [===========================>..] - ETA: 0s - loss: 0.0894 - accuracy: 0.9825\n",
      "Epoch 00032: ReduceLROnPlateau reducing learning rate to 0.001.\n",
      "26/26 [==============================] - 21s 795ms/step - loss: 0.0895 - accuracy: 0.9830 - val_loss: 0.0980 - val_accuracy: 0.9707\n",
      "Epoch 33/50\n",
      "26/26 [==============================] - 20s 784ms/step - loss: 0.0871 - accuracy: 0.9818 - val_loss: 0.0895 - val_accuracy: 0.9756\n",
      "Epoch 34/50\n",
      "26/26 [==============================] - 20s 786ms/step - loss: 0.0857 - accuracy: 0.9842 - val_loss: 0.0893 - val_accuracy: 0.9707\n",
      "Epoch 35/50\n",
      "25/26 [===========================>..] - ETA: 0s - loss: 0.0839 - accuracy: 0.9825\n",
      "Epoch 00035: ReduceLROnPlateau reducing learning rate to 0.001.\n",
      "26/26 [==============================] - 21s 820ms/step - loss: 0.0849 - accuracy: 0.9818 - val_loss: 0.0911 - val_accuracy: 0.9707\n",
      "Epoch 36/50\n",
      "26/26 [==============================] - 20s 763ms/step - loss: 0.0826 - accuracy: 0.9842 - val_loss: 0.0889 - val_accuracy: 0.9707\n",
      "Epoch 37/50\n",
      "26/26 [==============================] - 21s 799ms/step - loss: 0.0804 - accuracy: 0.9854 - val_loss: 0.0826 - val_accuracy: 0.9756\n",
      "Epoch 38/50\n",
      "25/26 [===========================>..] - ETA: 0s - loss: 0.0794 - accuracy: 0.9862\n",
      "Epoch 00038: ReduceLROnPlateau reducing learning rate to 0.001.\n",
      "26/26 [==============================] - 19s 747ms/step - loss: 0.0791 - accuracy: 0.9866 - val_loss: 0.0843 - val_accuracy: 0.9707\n",
      "Epoch 39/50\n",
      "26/26 [==============================] - 20s 758ms/step - loss: 0.0777 - accuracy: 0.9866 - val_loss: 0.0821 - val_accuracy: 0.9707\n",
      "Epoch 40/50\n",
      "25/26 [===========================>..] - ETA: 0s - loss: 0.0765 - accuracy: 0.9862\n",
      "Epoch 00040: ReduceLROnPlateau reducing learning rate to 0.001.\n",
      "26/26 [==============================] - 20s 777ms/step - loss: 0.0760 - accuracy: 0.9866 - val_loss: 0.0832 - val_accuracy: 0.9707\n",
      "Epoch 41/50\n",
      "26/26 [==============================] - 20s 788ms/step - loss: 0.0749 - accuracy: 0.9854 - val_loss: 0.0814 - val_accuracy: 0.9707\n",
      "Epoch 42/50\n",
      "26/26 [==============================] - 21s 823ms/step - loss: 0.0744 - accuracy: 0.9842 - val_loss: 0.0775 - val_accuracy: 0.9707\n",
      "Epoch 43/50\n",
      "26/26 [==============================] - 21s 792ms/step - loss: 0.0719 - accuracy: 0.9891 - val_loss: 0.0756 - val_accuracy: 0.9707\n",
      "Epoch 44/50\n",
      "25/26 [===========================>..] - ETA: 0s - loss: 0.0695 - accuracy: 0.9875\n",
      "Epoch 00044: ReduceLROnPlateau reducing learning rate to 0.001.\n",
      "26/26 [==============================] - 20s 780ms/step - loss: 0.0695 - accuracy: 0.9878 - val_loss: 0.0757 - val_accuracy: 0.9707\n",
      "Epoch 45/50\n",
      "25/26 [===========================>..] - ETA: 0s - loss: 0.0700 - accuracy: 0.9862\n",
      "Epoch 00045: ReduceLROnPlateau reducing learning rate to 0.001.\n",
      "26/26 [==============================] - 21s 794ms/step - loss: 0.0687 - accuracy: 0.9866 - val_loss: 0.0765 - val_accuracy: 0.9707\n",
      "Epoch 46/50\n",
      "26/26 [==============================] - 21s 804ms/step - loss: 0.0689 - accuracy: 0.9866 - val_loss: 0.0730 - val_accuracy: 0.9756\n",
      "Epoch 47/50\n",
      "26/26 [==============================] - 21s 799ms/step - loss: 0.0655 - accuracy: 0.9878 - val_loss: 0.0725 - val_accuracy: 0.9707\n",
      "Epoch 48/50\n",
      "25/26 [===========================>..] - ETA: 0s - loss: 0.0654 - accuracy: 0.9887\n",
      "Epoch 00048: ReduceLROnPlateau reducing learning rate to 0.001.\n",
      "26/26 [==============================] - 21s 812ms/step - loss: 0.0650 - accuracy: 0.9891 - val_loss: 0.0729 - val_accuracy: 0.9707\n",
      "Epoch 49/50\n",
      "26/26 [==============================] - 20s 762ms/step - loss: 0.0636 - accuracy: 0.9878 - val_loss: 0.0722 - val_accuracy: 0.9756\n",
      "Epoch 50/50\n",
      "26/26 [==============================] - 21s 789ms/step - loss: 0.0627 - accuracy: 0.9866 - val_loss: 0.0704 - val_accuracy: 0.9707\n"
     ]
    },
    {
     "data": {
      "text/plain": [
       "<tensorflow.python.keras.callbacks.History at 0x7fca754d2410>"
      ]
     },
     "execution_count": 20,
     "metadata": {},
     "output_type": "execute_result"
    }
   ],
   "source": [
    "model = build_model(dense_units=256)\n",
    "model.compile(\n",
    "    optimizer='sgd',\n",
    "    loss='sparse_categorical_crossentropy', \n",
    "    metrics=['accuracy'])\n",
    "  \n",
    "model.fit(train_batches, \n",
    "          epochs=50, \n",
    "          validation_data=validation_batches, \n",
    "          callbacks=[ReduceLROnPlateau(monitor='val_loss', \n",
    "                                       factor=0.2, verbose=1,\n",
    "                                       patience=1, min_lr=0.001),\n",
    "                     TensorBoard(log_dir='./log_dir')])"
   ]
  },
  {
   "cell_type": "code",
   "execution_count": 21,
   "metadata": {
    "colab": {},
    "colab_type": "code",
    "id": "isfTWP4NYudk"
   },
   "outputs": [
    {
     "data": {
      "text/plain": [
       "Reusing TensorBoard on port 6007 (pid 4614), started 0:18:18 ago. (Use '!kill 4614' to kill it.)"
      ]
     },
     "metadata": {},
     "output_type": "display_data"
    },
    {
     "data": {
      "text/html": [
       "\n",
       "      <iframe id=\"tensorboard-frame-b1343d74ffb299bc\" width=\"100%\" height=\"800\" frameborder=\"0\">\n",
       "      </iframe>\n",
       "      <script>\n",
       "        (function() {\n",
       "          const frame = document.getElementById(\"tensorboard-frame-b1343d74ffb299bc\");\n",
       "          const url = new URL(\"/\", window.location);\n",
       "          url.port = 6007;\n",
       "          frame.src = url;\n",
       "        })();\n",
       "      </script>\n",
       "  "
      ],
      "text/plain": [
       "<IPython.core.display.HTML object>"
      ]
     },
     "metadata": {},
     "output_type": "display_data"
    }
   ],
   "source": [
    "%tensorboard --logdir log_dir"
   ]
  }
 ],
 "metadata": {
  "colab": {
   "collapsed_sections": [],
   "include_colab_link": true,
   "name": "ExploringCallbacks.ipynb",
   "provenance": []
  },
  "kernelspec": {
   "display_name": "Python 3",
   "language": "python",
   "name": "python3"
  },
  "language_info": {
   "codemirror_mode": {
    "name": "ipython",
    "version": 3
   },
   "file_extension": ".py",
   "mimetype": "text/x-python",
   "name": "python",
   "nbconvert_exporter": "python",
   "pygments_lexer": "ipython3",
   "version": "3.7.6"
  }
 },
 "nbformat": 4,
 "nbformat_minor": 4
}
